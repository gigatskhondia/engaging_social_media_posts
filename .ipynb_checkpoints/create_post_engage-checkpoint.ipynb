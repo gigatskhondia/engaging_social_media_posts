{
 "cells": [
  {
   "cell_type": "code",
   "execution_count": 1,
   "metadata": {},
   "outputs": [],
   "source": [
    "from parlai.core.agents import create_agent\n",
    "from parlai.core.worlds import create_task\n",
    "from parlai.core.image_featurizers import ImageLoader"
   ]
  },
  {
   "cell_type": "code",
   "execution_count": 2,
   "metadata": {},
   "outputs": [],
   "source": [
    "import cgi\n",
    "import PIL.Image as IM\n",
    "from base64 import b64decode\n",
    "import io\n",
    "import os\n",
    "import base64"
   ]
  },
  {
   "cell_type": "code",
   "execution_count": 3,
   "metadata": {},
   "outputs": [],
   "source": [
    "from os import walk"
   ]
  },
  {
   "cell_type": "code",
   "execution_count": 4,
   "metadata": {},
   "outputs": [],
   "source": [
    "import numpy as np"
   ]
  },
  {
   "cell_type": "code",
   "execution_count": 11,
   "metadata": {},
   "outputs": [],
   "source": [
    "from IPython.display import Image"
   ]
  },
  {
   "cell_type": "code",
   "execution_count": 15,
   "metadata": {},
   "outputs": [],
   "source": [
    "import spacy\n",
    "import pandas as pd\n",
    "from nearpy.distances import CosineDistance"
   ]
  },
  {
   "cell_type": "markdown",
   "metadata": {},
   "source": [
    "## Paths dev"
   ]
  },
  {
   "cell_type": "code",
   "execution_count": 53,
   "metadata": {},
   "outputs": [],
   "source": [
    "# captioning\n",
    "opt_download_path =''\n",
    "opt_datapath=''\n",
    "opt_parlai_home=''\n",
    "opt_model_file = './transresnet/model'\n",
    "opt_fixed_cands_path='./transresnet/candidates.txt'\n",
    "personality_captions_path='./personality_captions/train.json'"
   ]
  },
  {
   "cell_type": "markdown",
   "metadata": {},
   "source": [
    "## Captioning utils"
   ]
  },
  {
   "cell_type": "code",
   "execution_count": 54,
   "metadata": {},
   "outputs": [],
   "source": [
    "opt={'init_opt': None, \n",
    "     'show_advanced_args': False, \n",
    "     'task': 'interactive',\n",
    "     'download_path': opt_download_path, \n",
    "     'datatype': 'train',\n",
    "     'image_mode': 'raw', \n",
    "     'numthreads': 1,\n",
    "     'hide_labels': False,\n",
    "     'multitask_weights': [1],\n",
    "     'batchsize': 1,\n",
    "     'datapath': opt_datapath, \n",
    "     'model': None, \n",
    "     'model_file': opt_model_file, \n",
    "     'init_model': None, \n",
    "     'dict_class': None, \n",
    "     'display_examples': False, \n",
    "     'display_prettify': False, \n",
    "     'display_ignore_fields': \n",
    "     'label_candidates,text_candidates', \n",
    "     'interactive_task': True, \n",
    "     'local_human_candidates_file': None,\n",
    "     'single_turn': False,\n",
    "     'image_size': 256,\n",
    "     'image_cropsize': 224,\n",
    "     'embedding_size': 300, \n",
    "     'n_layers': 2, \n",
    "     'ffn_size': 1200, \n",
    "     'dropout': 0.0, \n",
    "     'attention_dropout': 0.2,\n",
    "     'relu_dropout': 0.2, \n",
    "     'n_heads': 2,\n",
    "     'learn_positional_embeddings': False,\n",
    "     'embeddings_scale': True,\n",
    "     'n_positions': 1000, \n",
    "     'n_segments': 0,\n",
    "     'variant': 'aiayn',\n",
    "     'activation': 'relu',\n",
    "     'output_scaling': 1.0, \n",
    "     'share_word_embeddings': True,\n",
    "     'truncate': 32, \n",
    "     'image_features_dim': 2048,\n",
    "     'embedding_type': None,\n",
    "     'load_encoder_from': None, \n",
    "     'hidden_dim': 300, \n",
    "     'num_layers_all': -1,\n",
    "     'num_layers_text_encoder': 1,\n",
    "     'num_layers_image_encoder': 1,\n",
    "     'no_cuda': False, \n",
    "     'learningrate': 0.0005,\n",
    "     'additional_layer_dropout': 0.2, \n",
    "     'freeze_patience': -1, \n",
    "     'one_cand_set': False, \n",
    "     'fixed_cands_path': None,\n",
    "     'pretrained': False, \n",
    "     'dict_file': None,\n",
    "     'dict_initpath': None, \n",
    "     'dict_language': 'english',\n",
    "     'dict_max_ngram_size': -1,\n",
    "     'dict_minfreq': 0, \n",
    "     'dict_maxtokens': -1, \n",
    "     'dict_nulltoken': '__null__',\n",
    "     'dict_starttoken': '__start__', \n",
    "     'dict_endtoken': '__end__',\n",
    "     'dict_unktoken': '__unk__',\n",
    "     'dict_tokenizer': 're',\n",
    "     'dict_lower': False, \n",
    "     'bpe_debug': False, \n",
    "     'dict_textfields': 'text,labels',\n",
    "     'interactive_mode': True, \n",
    "     'parlai_home': opt_parlai_home, \n",
    "     'override': {'ffn_size': 1200,\n",
    "                  'attention_dropout': 0.2,\n",
    "                  'relu_dropout': 0.2, \n",
    "                  'n_positions': 1000,\n",
    "                  'model_file': opt_model_file},\n",
    "                 'starttime': 'Aug20_13-01'}"
   ]
  },
  {
   "cell_type": "code",
   "execution_count": 55,
   "metadata": {},
   "outputs": [],
   "source": [
    "opt['fixed_cands_path'] = opt_fixed_cands_path"
   ]
  },
  {
   "cell_type": "code",
   "execution_count": 56,
   "metadata": {},
   "outputs": [],
   "source": [
    "opt['task'] = 'parlai.agents.local_human.local_human:LocalHumanAgent'\n",
    "opt['image_mode'] = 'resnet152'\n",
    "opt['no_cuda'] = True\n",
    "opt['override']['no_cuda'] = True"
   ]
  },
  {
   "cell_type": "code",
   "execution_count": 57,
   "metadata": {},
   "outputs": [
    {
     "name": "stderr",
     "output_type": "stream",
     "text": [
      "/home/georgy/anaconda3/lib/python3.6/site-packages/torchvision/transforms/transforms.py:188: UserWarning: The use of the transforms.Scale transform is deprecated, please use transforms.Resize instead.\n",
      "  \"please use transforms.Resize instead.\")\n",
      "Downloading: \"https://download.pytorch.org/models/resnet152-b121ed2d.pth\" to /home/georgy/.torch/models/resnet152-b121ed2d.pth\n",
      "241530880it [00:22, 10962379.04it/s]\n"
     ]
    },
    {
     "name": "stdout",
     "output_type": "stream",
     "text": [
      "[ warning: overriding opt['attention_dropout'] to 0.2 (previously: None )]\n",
      "[ warning: overriding opt['relu_dropout'] to 0.2 (previously: None )]\n",
      "[ warning: overriding opt['n_positions'] to 1000 (previously: None )]\n",
      "[ warning: overriding opt['model_file'] to /home/georgy/Desktop/Movista/MP/transfer/engaging_social_media_posts/transresnet/model (previously: pers_cap_model_best_resnet )]\n",
      "[ warning: overriding opt['no_cuda'] to True (previously: False )]\n"
     ]
    },
    {
     "name": "stderr",
     "output_type": "stream",
     "text": [
      "/home/georgy/ParlAI/parlai/agents/transformer/modules.py:32: UserWarning: Installing APEX can give a significant speed boost.\n",
      "  warn_once(\"Installing APEX can give a significant speed boost.\")\n"
     ]
    },
    {
     "name": "stdout",
     "output_type": "stream",
     "text": [
      "Dictionary: loading dictionary from /home/georgy/Desktop/Movista/MP/transfer/engaging_social_media_posts/transresnet/model.dict\n"
     ]
    },
    {
     "name": "stderr",
     "output_type": "stream",
     "text": [
      "\r",
      "Downloading personality_captions.tgz: 0.00B [00:00, ?B/s]"
     ]
    },
    {
     "name": "stdout",
     "output_type": "stream",
     "text": [
      "[ num words =  250006 ]\n",
      "[building data: personality_captions]\n",
      "[ downloading: http://parl.ai/downloads/personality_captions/personality_captions.tgz to personality_captions/personality_captions.tgz ]\n"
     ]
    },
    {
     "name": "stderr",
     "output_type": "stream",
     "text": [
      "Downloading personality_captions.tgz: 100%|██████████| 138M/138M [00:15<00:00, 8.79MB/s]   \n"
     ]
    },
    {
     "name": "stdout",
     "output_type": "stream",
     "text": [
      "unpacking personality_captions.tgz\n",
      "Creating or loading model\n",
      "loading saved cand encodings\n",
      "[creating task(s): parlai.agents.local_human.local_human:LocalHumanAgent]\n",
      "Enter [DONE] if you want to end the episode.\n",
      "\n"
     ]
    }
   ],
   "source": [
    "SHARED = {}\n",
    "SHARED['opt'] = opt\n",
    "SHARED['image_loader'] = ImageLoader(opt)\n",
    "# Create model and assign it to the specified task\n",
    "SHARED['agent'] = create_agent(opt, requireModelExists=True)\n",
    "SHARED['world'] = create_task(opt, SHARED['agent'])"
   ]
  },
  {
   "cell_type": "markdown",
   "metadata": {},
   "source": [
    "## Personalities"
   ]
  },
  {
   "cell_type": "code",
   "execution_count": 58,
   "metadata": {},
   "outputs": [],
   "source": [
    "persona_dic = {0: 'Abrasive (Annoying, Irritating)',\n",
    " 1: 'Absentminded',\n",
    " 2: 'Adventurous',\n",
    " 3: 'Aggressive',\n",
    " 4: 'Airy (Casual, Not Serious)',\n",
    " 5: 'Aloof (Detached, Distant)',\n",
    " 6: 'Amusing',\n",
    " 7: 'Angry',\n",
    " 8: 'Anxious',\n",
    " 9: 'Apathetic (Uncaring, Disinterested)',\n",
    " 10: 'Appreciative (Grateful)',\n",
    " 11: 'Argumentative',\n",
    " 12: 'Arrogant',\n",
    " 13: 'Artful',\n",
    " 14: 'Articulate (Well-spoken, Expressive)',\n",
    " 15: 'Artificial',\n",
    " 16: 'Assertive',\n",
    " 17: 'Attractive',\n",
    " 18: 'Barbaric',\n",
    " 19: 'Bewildered (Astonished, Confused)',\n",
    " 20: 'Bizarre',\n",
    " 21: 'Bland',\n",
    " 22: 'Blunt',\n",
    " 23: 'Boisterous (Rowdy, Loud)',\n",
    " 24: 'Boyish',\n",
    " 25: 'Breezy (Relaxed, Informal)',\n",
    " 26: 'Brilliant',\n",
    " 27: 'Businesslike',\n",
    " 28: 'Calm',\n",
    " 29: 'Captivating',\n",
    " 30: 'Caring',\n",
    " 31: 'Casual',\n",
    " 32: 'Cerebral (Intellectual, Logical)',\n",
    " 33: 'Charming',\n",
    " 34: 'Cheerful',\n",
    " 35: 'Childish',\n",
    " 36: 'Clever',\n",
    " 37: 'Coarse (Not Fine, Crass)',\n",
    " 38: 'Cold',\n",
    " 39: 'Colorful (Full of Life, Interesting)',\n",
    " 40: 'Compassionate (Sympathetic, Warm)',\n",
    " 41: 'Complex',\n",
    " 42: 'Conceited (Arrogant, Egotistical)',\n",
    " 43: 'Confident',\n",
    " 44: 'Confused',\n",
    " 45: 'Conservative (Traditional, Conventional)',\n",
    " 46: 'Considerate',\n",
    " 47: 'Contemplative (Reflective, Thoughtful)',\n",
    " 48: 'Contemptible (Despicable, Vile)',\n",
    " 49: 'Contradictory',\n",
    " 50: 'Courageous',\n",
    " 51: 'Cowardly',\n",
    " 52: 'Crazy',\n",
    " 53: 'Creative',\n",
    " 54: 'Critical',\n",
    " 55: 'Crude',\n",
    " 56: 'Cruel',\n",
    " 57: 'Cultured (Refined, Educated)',\n",
    " 58: 'Curious',\n",
    " 59: 'Cute',\n",
    " 60: 'Cynical (Doubtful, Skeptical)',\n",
    " 61: 'Daring',\n",
    " 62: 'Deep',\n",
    " 63: 'Destructive',\n",
    " 64: 'Devious',\n",
    " 65: 'Discouraging',\n",
    " 66: 'Disturbing',\n",
    " 67: 'Dramatic',\n",
    " 68: 'Dreamy',\n",
    " 69: 'Dry',\n",
    " 70: 'Dull',\n",
    " 71: 'Earnest',\n",
    " 72: 'Earnest (Enthusiastic)',\n",
    " 73: 'Egocentric (Self-centered)',\n",
    " 74: 'Elegant',\n",
    " 75: 'Eloquent (Well-spoken, Expressive)',\n",
    " 76: 'Emotional',\n",
    " 77: 'Empathetic',\n",
    " 78: 'Energetic',\n",
    " 79: 'Enigmatic (Cryptic, Obscure)',\n",
    " 80: 'Enthusiastic',\n",
    " 81: 'Envious',\n",
    " 82: 'Erratic',\n",
    " 83: 'Escapist (Dreamer, Seeks Distraction)',\n",
    " 84: 'Excitable',\n",
    " 85: 'Exciting',\n",
    " 86: 'Extraordinary',\n",
    " 87: 'Extravagant',\n",
    " 88: 'Extreme',\n",
    " 89: 'Fanatical',\n",
    " 90: 'Fanciful',\n",
    " 91: 'Fatalistic (Bleak, Gloomy)',\n",
    " 92: 'Fawning (Flattering, Deferential)',\n",
    " 93: 'Fearful',\n",
    " 94: 'Fickle (Changeable, Temperamental)',\n",
    " 95: 'Fiery',\n",
    " 96: 'Foolish',\n",
    " 97: 'Formal',\n",
    " 98: 'Freethinking',\n",
    " 99: 'Frightening',\n",
    " 100: 'Frivolous (Trivial, Silly)',\n",
    " 101: 'Fun-loving',\n",
    " 102: 'Gentle',\n",
    " 103: 'Glamorous',\n",
    " 104: 'Gloomy',\n",
    " 105: 'Grand',\n",
    " 106: 'Grim',\n",
    " 107: 'Happy',\n",
    " 108: 'Hateful',\n",
    " 109: 'Haughty (Arrogant, Snobbish)',\n",
    " 110: 'High-spirited',\n",
    " 111: 'Honest',\n",
    " 112: 'Hostile',\n",
    " 113: 'Humble',\n",
    " 114: 'Humorous',\n",
    " 115: 'Idealistic',\n",
    " 116: 'Imaginative',\n",
    " 117: 'Impersonal',\n",
    " 118: 'Insightful',\n",
    " 119: 'Intelligent',\n",
    " 120: 'Intense',\n",
    " 121: 'Irrational',\n",
    " 122: 'Irritable',\n",
    " 123: 'Kind',\n",
    " 124: 'Knowledgeable',\n",
    " 125: 'Lazy',\n",
    " 126: 'Logical',\n",
    " 127: 'Malicious',\n",
    " 128: 'Maternal (Mother-like)',\n",
    " 129: 'Melancholic',\n",
    " 130: 'Mellow (Soothing, Sweet)',\n",
    " 131: 'Meticulous (Precise, Thorough)',\n",
    " 132: 'Miserable',\n",
    " 133: 'Money-minded',\n",
    " 134: 'Monstrous',\n",
    " 135: 'Moody',\n",
    " 136: 'Morbid',\n",
    " 137: 'Mystical',\n",
    " 138: 'Narcissistic (Self-centered, Egotistical)',\n",
    " 139: 'Neurotic (Manic, Obsessive)',\n",
    " 140: 'Neutral',\n",
    " 141: 'Nihilistic',\n",
    " 142: 'Objective (Detached, Impartial)',\n",
    " 143: 'Obnoxious',\n",
    " 144: 'Observant',\n",
    " 145: 'Obsessive',\n",
    " 146: 'Odd',\n",
    " 147: 'Offhand',\n",
    " 148: 'Old-fashioned',\n",
    " 149: 'Open',\n",
    " 150: 'Opinionated',\n",
    " 151: 'Optimistic',\n",
    " 152: 'Ordinary',\n",
    " 153: 'Outrageous',\n",
    " 154: 'Overimaginative',\n",
    " 155: 'Paranoid',\n",
    " 156: 'Passionate',\n",
    " 157: 'Passive',\n",
    " 158: 'Patriotic',\n",
    " 159: 'Peaceful',\n",
    " 160: 'Perceptive',\n",
    " 161: 'Playful',\n",
    " 162: 'Pompous (Self-important, Arrogant)',\n",
    " 163: 'Practical',\n",
    " 164: 'Pretentious (Snobbish, Showy)',\n",
    " 165: 'Profound',\n",
    " 166: 'Provocative',\n",
    " 167: 'Questioning',\n",
    " 168: 'Quirky',\n",
    " 169: 'Rational',\n",
    " 170: 'Realistic',\n",
    " 171: 'Reflective',\n",
    " 172: 'Relaxed',\n",
    " 173: 'Resentful',\n",
    " 174: 'Respectful',\n",
    " 175: 'Ridiculous',\n",
    " 176: 'Rigid',\n",
    " 177: 'Romantic',\n",
    " 178: 'Rowdy',\n",
    " 179: 'Rustic (Rural)',\n",
    " 180: 'Sarcastic',\n",
    " 181: 'Scholarly',\n",
    " 182: 'Scornful',\n",
    " 183: 'Sensitive',\n",
    " 184: 'Sensual',\n",
    " 185: 'Sentimental',\n",
    " 186: 'Serious',\n",
    " 187: 'Shy',\n",
    " 188: 'Silly',\n",
    " 189: 'Simple',\n",
    " 190: 'Skeptical',\n",
    " 191: 'Solemn',\n",
    " 192: 'Sophisticated',\n",
    " 193: 'Spirited',\n",
    " 194: 'Spontaneous',\n",
    " 195: 'Stiff',\n",
    " 196: 'Stoic (Unemotional, Matter-of-fact)',\n",
    " 197: 'Stupid',\n",
    " 198: 'Stylish',\n",
    " 199: 'Suave (Charming, Smooth)',\n",
    " 200: 'Sweet',\n",
    " 201: 'Sympathetic',\n",
    " 202: 'Tense',\n",
    " 203: 'Tough',\n",
    " 204: 'Uncreative',\n",
    " 205: 'Unimaginative',\n",
    " 206: 'Unrealistic',\n",
    " 207: 'Vacuous (Empty, Unintelligent)',\n",
    " 208: 'Vague',\n",
    " 209: 'Vivacious (Lively, Animated)',\n",
    " 210: 'Warm',\n",
    " 211: 'Whimsical (Playful, Fanciful)',\n",
    " 212: 'Wise',\n",
    " 213: 'Wishful',\n",
    " 214: 'Witty',\n",
    " 215: 'Youthful',\n",
    " 216: 'Zany'}"
   ]
  },
  {
   "cell_type": "code",
   "execution_count": 59,
   "metadata": {},
   "outputs": [],
   "source": [
    "df = pd.read_json(personality_captions_path)"
   ]
  },
  {
   "cell_type": "code",
   "execution_count": 60,
   "metadata": {},
   "outputs": [
    {
     "data": {
      "text/html": [
       "<div>\n",
       "<style scoped>\n",
       "    .dataframe tbody tr th:only-of-type {\n",
       "        vertical-align: middle;\n",
       "    }\n",
       "\n",
       "    .dataframe tbody tr th {\n",
       "        vertical-align: top;\n",
       "    }\n",
       "\n",
       "    .dataframe thead th {\n",
       "        text-align: right;\n",
       "    }\n",
       "</style>\n",
       "<table border=\"1\" class=\"dataframe\">\n",
       "  <thead>\n",
       "    <tr style=\"text-align: right;\">\n",
       "      <th></th>\n",
       "      <th>personality</th>\n",
       "      <th>comment</th>\n",
       "      <th>image_hash</th>\n",
       "    </tr>\n",
       "  </thead>\n",
       "  <tbody>\n",
       "    <tr>\n",
       "      <td>0</td>\n",
       "      <td>Intense</td>\n",
       "      <td>The snow will last as long as my sadness</td>\n",
       "      <td>1e22a9cf867d718551386b427c3b6d18</td>\n",
       "    </tr>\n",
       "    <tr>\n",
       "      <td>1</td>\n",
       "      <td>Adventurous</td>\n",
       "      <td>I love experiencing new cultures</td>\n",
       "      <td>96472caea58db27769f1c282e2ac0</td>\n",
       "    </tr>\n",
       "    <tr>\n",
       "      <td>2</td>\n",
       "      <td>Mellow (Soothing, Sweet)</td>\n",
       "      <td>Look at that smooth easy catch of the ball. li...</td>\n",
       "      <td>f09d8fb76822158de129acb0fef463</td>\n",
       "    </tr>\n",
       "    <tr>\n",
       "      <td>3</td>\n",
       "      <td>Zany</td>\n",
       "      <td>I wish I could just run down this shore!</td>\n",
       "      <td>6e4ccc739ff44ed11da20ad9892317</td>\n",
       "    </tr>\n",
       "    <tr>\n",
       "      <td>4</td>\n",
       "      <td>Narcissistic (Self-centered, Egotistical)</td>\n",
       "      <td>Psh, I've seen way better floral arrangements....</td>\n",
       "      <td>e7e1844aa9e67cddc6ffe8804d76e45b</td>\n",
       "    </tr>\n",
       "  </tbody>\n",
       "</table>\n",
       "</div>"
      ],
      "text/plain": [
       "                                 personality  \\\n",
       "0                                    Intense   \n",
       "1                                Adventurous   \n",
       "2                   Mellow (Soothing, Sweet)   \n",
       "3                                       Zany   \n",
       "4  Narcissistic (Self-centered, Egotistical)   \n",
       "\n",
       "                                             comment  \\\n",
       "0           The snow will last as long as my sadness   \n",
       "1                   I love experiencing new cultures   \n",
       "2  Look at that smooth easy catch of the ball. li...   \n",
       "3           I wish I could just run down this shore!   \n",
       "4  Psh, I've seen way better floral arrangements....   \n",
       "\n",
       "                         image_hash  \n",
       "0  1e22a9cf867d718551386b427c3b6d18  \n",
       "1     96472caea58db27769f1c282e2ac0  \n",
       "2    f09d8fb76822158de129acb0fef463  \n",
       "3    6e4ccc739ff44ed11da20ad9892317  \n",
       "4  e7e1844aa9e67cddc6ffe8804d76e45b  "
      ]
     },
     "execution_count": 60,
     "metadata": {},
     "output_type": "execute_result"
    }
   ],
   "source": [
    "df.head()"
   ]
  },
  {
   "cell_type": "code",
   "execution_count": 61,
   "metadata": {},
   "outputs": [],
   "source": [
    "df['personality'] = df['personality'].astype('category').cat.codes"
   ]
  },
  {
   "cell_type": "code",
   "execution_count": 62,
   "metadata": {},
   "outputs": [
    {
     "data": {
      "text/html": [
       "<div>\n",
       "<style scoped>\n",
       "    .dataframe tbody tr th:only-of-type {\n",
       "        vertical-align: middle;\n",
       "    }\n",
       "\n",
       "    .dataframe tbody tr th {\n",
       "        vertical-align: top;\n",
       "    }\n",
       "\n",
       "    .dataframe thead th {\n",
       "        text-align: right;\n",
       "    }\n",
       "</style>\n",
       "<table border=\"1\" class=\"dataframe\">\n",
       "  <thead>\n",
       "    <tr style=\"text-align: right;\">\n",
       "      <th></th>\n",
       "      <th>personality</th>\n",
       "      <th>comment</th>\n",
       "      <th>image_hash</th>\n",
       "    </tr>\n",
       "  </thead>\n",
       "  <tbody>\n",
       "    <tr>\n",
       "      <td>0</td>\n",
       "      <td>120</td>\n",
       "      <td>The snow will last as long as my sadness</td>\n",
       "      <td>1e22a9cf867d718551386b427c3b6d18</td>\n",
       "    </tr>\n",
       "    <tr>\n",
       "      <td>1</td>\n",
       "      <td>2</td>\n",
       "      <td>I love experiencing new cultures</td>\n",
       "      <td>96472caea58db27769f1c282e2ac0</td>\n",
       "    </tr>\n",
       "    <tr>\n",
       "      <td>2</td>\n",
       "      <td>130</td>\n",
       "      <td>Look at that smooth easy catch of the ball. li...</td>\n",
       "      <td>f09d8fb76822158de129acb0fef463</td>\n",
       "    </tr>\n",
       "    <tr>\n",
       "      <td>3</td>\n",
       "      <td>216</td>\n",
       "      <td>I wish I could just run down this shore!</td>\n",
       "      <td>6e4ccc739ff44ed11da20ad9892317</td>\n",
       "    </tr>\n",
       "    <tr>\n",
       "      <td>4</td>\n",
       "      <td>138</td>\n",
       "      <td>Psh, I've seen way better floral arrangements....</td>\n",
       "      <td>e7e1844aa9e67cddc6ffe8804d76e45b</td>\n",
       "    </tr>\n",
       "  </tbody>\n",
       "</table>\n",
       "</div>"
      ],
      "text/plain": [
       "   personality                                            comment  \\\n",
       "0          120           The snow will last as long as my sadness   \n",
       "1            2                   I love experiencing new cultures   \n",
       "2          130  Look at that smooth easy catch of the ball. li...   \n",
       "3          216           I wish I could just run down this shore!   \n",
       "4          138  Psh, I've seen way better floral arrangements....   \n",
       "\n",
       "                         image_hash  \n",
       "0  1e22a9cf867d718551386b427c3b6d18  \n",
       "1     96472caea58db27769f1c282e2ac0  \n",
       "2    f09d8fb76822158de129acb0fef463  \n",
       "3    6e4ccc739ff44ed11da20ad9892317  \n",
       "4  e7e1844aa9e67cddc6ffe8804d76e45b  "
      ]
     },
     "execution_count": 62,
     "metadata": {},
     "output_type": "execute_result"
    }
   ],
   "source": [
    "df.head()"
   ]
  },
  {
   "cell_type": "code",
   "execution_count": 21,
   "metadata": {},
   "outputs": [],
   "source": [
    "nlp = spacy.load('en_core_web_md')"
   ]
  },
  {
   "cell_type": "code",
   "execution_count": 27,
   "metadata": {},
   "outputs": [
    {
     "name": "stderr",
     "output_type": "stream",
     "text": [
      "/home/georgy/anaconda3/lib/python3.6/site-packages/ipykernel_launcher.py:4: RuntimeWarning: invalid value encountered in true_divide\n",
      "  after removing the cwd from sys.path.\n"
     ]
    }
   ],
   "source": [
    "data=[]\n",
    "for i in range(len(df)):\n",
    "    sent2vec=nlp(df.comment[i]).vector\n",
    "    el=list(sent2vec/np.sqrt(np.sum(sent2vec**2)))\n",
    "    data.append(el) "
   ]
  },
  {
   "cell_type": "code",
   "execution_count": 29,
   "metadata": {},
   "outputs": [],
   "source": [
    "def classify(test_sentence, persona_dic, data):\n",
    "    mydoc2vec=nlp(test_sentence).vector\n",
    "    mydoc2vec/=np.sqrt(np.sum(mydoc2vec**2))\n",
    "    N =CosineDistance().distance(data,mydoc2vec)\n",
    "    A=np.argsort(N)\n",
    "    return persona_dic[df.personality[A[0]]]"
   ]
  },
  {
   "cell_type": "code",
   "execution_count": 91,
   "metadata": {},
   "outputs": [],
   "source": [
    "# persona=classify('Look at that smooth easy catch of the ball', persona_dic, data)"
   ]
  },
  {
   "cell_type": "code",
   "execution_count": 109,
   "metadata": {},
   "outputs": [],
   "source": [
    "# persona"
   ]
  },
  {
   "cell_type": "code",
   "execution_count": 63,
   "metadata": {},
   "outputs": [],
   "source": [
    "def engaging_image_captions(folder_path, personality):\n",
    "    out = {}\n",
    "    \n",
    "    reply = {}\n",
    "    reply['text']=personality\n",
    "    \n",
    "    f = []\n",
    "    for (dirpath, dirnames, filenames) in walk(folder_path):\n",
    "        f.extend(filenames)\n",
    "        break\n",
    "\n",
    "    for i in range(len(f)):\n",
    "        try:   \n",
    "            f[i]=folder_path +f[i]\n",
    "            with open(f[i], mode='rb') as file:\n",
    "                img = file.read()\n",
    "            encoded = base64.encodebytes(img).decode(\"utf-8\") \n",
    "\n",
    "            image = IM.open(io.BytesIO(b64decode(encoded))).convert('RGB')\n",
    "            reply['image'] = SHARED['image_loader'].extract(image)\n",
    "            SHARED['agent'].observe(reply)\n",
    "            model_res = SHARED['agent'].act()  \n",
    "            out[f[i]]=model_res['text']\n",
    "        except:\n",
    "            continue\n",
    "            \n",
    "    return out  "
   ]
  },
  {
   "cell_type": "code",
   "execution_count": 64,
   "metadata": {},
   "outputs": [],
   "source": [
    "# captions_dic=engaging_image_captions(photo_folder_path, persona)"
   ]
  },
  {
   "cell_type": "code",
   "execution_count": 66,
   "metadata": {},
   "outputs": [],
   "source": [
    "# captions_dic"
   ]
  },
  {
   "cell_type": "code",
   "execution_count": 99,
   "metadata": {},
   "outputs": [],
   "source": [
    "def similarity(captions_dic, what_are_you_thinking_about):\n",
    "    out_={}\n",
    "    max_sim=float('inf')    \n",
    "    \n",
    "    \n",
    "    waryta2vec=nlp(what_are_you_thinking_about).vector\n",
    "    waryta2vec/=np.sqrt(np.sum(waryta2vec**2))\n",
    "    \n",
    "    \n",
    "    df= pd.DataFrame(list(captions_dic.items()), columns=['path', 'comment'])\n",
    "\n",
    "    data=[]\n",
    "    for i in range(len(df.comment)):\n",
    "        sent2vec=nlp(df.comment[i]).vector\n",
    "        el=list(sent2vec/np.sqrt(np.sum(sent2vec**2)))\n",
    "        data.append(el) \n",
    "        \n",
    "    N =CosineDistance().distance(data,waryta2vec)\n",
    "    A=np.argsort(N) \n",
    "       \n",
    "    return  df.path[A[0]], df.comment[A[0]]  "
   ]
  },
  {
   "cell_type": "code",
   "execution_count": 108,
   "metadata": {},
   "outputs": [],
   "source": [
    "# output_pic, output_phrase = similarity(captions_dic, what_are_you_thinking_about)"
   ]
  },
  {
   "cell_type": "markdown",
   "metadata": {},
   "source": [
    "# USER INPUT"
   ]
  },
  {
   "cell_type": "code",
   "execution_count": 101,
   "metadata": {},
   "outputs": [],
   "source": [
    "what_are_you_thinking_about = \"I just love life\""
   ]
  },
  {
   "cell_type": "code",
   "execution_count": 102,
   "metadata": {},
   "outputs": [],
   "source": [
    "photo_folder_path = './photos/'"
   ]
  },
  {
   "cell_type": "markdown",
   "metadata": {},
   "source": [
    "# API"
   ]
  },
  {
   "cell_type": "code",
   "execution_count": 103,
   "metadata": {},
   "outputs": [],
   "source": [
    "persona=classify(what_are_you_thinking_about, persona_dic, data)"
   ]
  },
  {
   "cell_type": "code",
   "execution_count": 104,
   "metadata": {},
   "outputs": [],
   "source": [
    "captions_dic=engaging_image_captions(photo_folder_path, persona)"
   ]
  },
  {
   "cell_type": "code",
   "execution_count": 105,
   "metadata": {},
   "outputs": [],
   "source": [
    "output_pic, output_phrase = similarity(captions_dic, what_are_you_thinking_about)"
   ]
  },
  {
   "cell_type": "markdown",
   "metadata": {},
   "source": [
    "# OUTPUT TO POST"
   ]
  },
  {
   "cell_type": "code",
   "execution_count": 106,
   "metadata": {},
   "outputs": [
    {
     "data": {
      "image/jpeg": "[encoded data removed]",
      "text/plain": [
       "<IPython.core.display.Image object>"
      ]
     },
     "execution_count": 106,
     "metadata": {},
     "output_type": "execute_result"
    }
   ],
   "source": [
    "Image(filename=output_pic) "
   ]
  },
  {
   "cell_type": "code",
   "execution_count": 107,
   "metadata": {},
   "outputs": [
    {
     "data": {
      "text/plain": [
       "'I am so happy there are trees in the world to help us breathe.'"
      ]
     },
     "execution_count": 107,
     "metadata": {},
     "output_type": "execute_result"
    }
   ],
   "source": [
    "output_phrase"
   ]
  },
  {
   "cell_type": "code",
   "execution_count": null,
   "metadata": {},
   "outputs": [],
   "source": []
  },
  {
   "cell_type": "code",
   "execution_count": null,
   "metadata": {},
   "outputs": [],
   "source": []
  },
  {
   "cell_type": "code",
   "execution_count": null,
   "metadata": {},
   "outputs": [],
   "source": []
  }
 ],
 "metadata": {
  "kernelspec": {
   "display_name": "Python 3 (ipykernel)",
   "language": "python",
   "name": "python3"
  },
  "language_info": {
   "codemirror_mode": {
    "name": "ipython",
    "version": 3
   },
   "file_extension": ".py",
   "mimetype": "text/x-python",
   "name": "python",
   "nbconvert_exporter": "python",
   "pygments_lexer": "ipython3",
   "version": "3.9.6"
  }
 },
 "nbformat": 4,
 "nbformat_minor": 2
}
